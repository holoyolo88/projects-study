{
 "cells": [
  {
   "cell_type": "code",
   "execution_count": 3,
   "metadata": {},
   "outputs": [
    {
     "name": "stdout",
     "output_type": "stream",
     "text": [
      "Index(['order', 'name', 'height(cm)'], dtype='object')\n",
      "[189 170 189 163 183 171 185 168 173 183 173 173 175 178 183 193 178 173\n",
      " 174 183 183 168 170 178 182 180 183 178 182 188 175 179 183 193 182 183\n",
      " 177 185 188 188 182 185]\n"
     ]
    }
   ],
   "source": [
    "## 예제 : 미국 대통령의 평균 신장은 얼마일까?\n",
    "import pandas as pd\n",
    "import numpy as np\n",
    "data = pd.read_csv('president_heights.csv')\n",
    "print(data.columns)\n",
    "heights = np.array(data['height(cm)'])\n",
    "print(heights)"
   ]
  },
  {
   "cell_type": "code",
   "execution_count": 6,
   "metadata": {},
   "outputs": [
    {
     "name": "stdout",
     "output_type": "stream",
     "text": [
      "Mean height :  179.73809523809524\n",
      "Standard deviation :  6.931843442745892\n",
      "Minimum height :  163\n",
      "Maximum height :  193\n"
     ]
    }
   ],
   "source": [
    "# average 평균값\n",
    "print(\"Mean height : \", heights.mean())\n",
    "# deviation편차\n",
    "print(\"Standard deviation : \", heights.std())\n",
    "print(\"Minimum height : \", heights.min())\n",
    "print(\"Maximum height : \", heights.max())\n",
    "# mode 최빈값"
   ]
  },
  {
   "cell_type": "code",
   "execution_count": 16,
   "metadata": {},
   "outputs": [
    {
     "name": "stdout",
     "output_type": "stream",
     "text": [
      "25th percentile :  174.25\n",
      "50th percentile :  182.0\n",
      "median :  182.0\n",
      "75th percentile :  183.0\n",
      "interquantile range :  8.75\n"
     ]
    }
   ],
   "source": [
    "# percentile 백분위수\n",
    "print(\"25th percentile : \", np.percentile(heights, 25))\n",
    "print(\"50th percentile : \", np.percentile(heights, 50))\n",
    "# median 중앙값\n",
    "# 중앙값은 제50백분위수 및 제2사분위수와 동일\n",
    "print(\"median : \", np.median(heights))\n",
    "print(\"75th percentile : \", np.percentile(heights, 75))\n",
    "# interquantile range 사분위수범위\n",
    "print(\"interquantile range : \", np.percentile(heights, 75)-np.percentile(heights, 25))\n",
    "\n"
   ]
  },
  {
   "cell_type": "code",
   "execution_count": 14,
   "metadata": {},
   "outputs": [
    {
     "data": {
      "text/plain": [
       "Text(0,0.5,'number')"
      ]
     },
     "execution_count": 14,
     "metadata": {},
     "output_type": "execute_result"
    },
    {
     "data": {
      "image/png": "[encoded data removed]",
      "text/plain": [
       "<Figure size 432x288 with 1 Axes>"
      ]
     },
     "metadata": {},
     "output_type": "display_data"
    }
   ],
   "source": [
    "import matplotlib.pyplot as plt\n",
    "import seaborn; seaborn.set()\n",
    "plt.hist(heights)\n",
    "plt.title('Height Distribution of Us presidents')\n",
    "plt.xlabel('height (cm)')\n",
    "plt.ylabel('number')"
   ]
  },
  {
   "cell_type": "code",
   "execution_count": null,
   "metadata": {},
   "outputs": [],
   "source": []
  }
 ],
 "metadata": {
  "kernelspec": {
   "display_name": "Python 3",
   "language": "python",
   "name": "python3"
  },
  "language_info": {
   "codemirror_mode": {
    "name": "ipython",
    "version": 3
   },
   "file_extension": ".py",
   "mimetype": "text/x-python",
   "name": "python",
   "nbconvert_exporter": "python",
   "pygments_lexer": "ipython3",
   "version": "3.6.5"
  }
 },
 "nbformat": 4,
 "nbformat_minor": 2
}
